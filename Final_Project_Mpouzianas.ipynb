{
  "nbformat": 4,
  "nbformat_minor": 0,
  "metadata": {
    "colab": {
      "provenance": [],
      "toc_visible": true
    },
    "kernelspec": {
      "name": "python3",
      "display_name": "Python 3"
    },
    "language_info": {
      "name": "python"
    }
  },
  "cells": [
    {
      "cell_type": "markdown",
      "source": [
        "# **Github access**\n",
        "\n",
        "--insert the GITHUB REPO ----"
      ],
      "metadata": {
        "id": "PuEZv4RjFYbW"
      }
    },
    {
      "cell_type": "code",
      "source": [
        "!git clone https://github.com/BaTNikolas/Image_recogntion_project/tree/main"
      ],
      "metadata": {
        "colab": {
          "base_uri": "https://localhost:8080/"
        },
        "id": "eryE8z7NxRzi",
        "outputId": "83cfff3b-267e-4ed8-b6b7-00fdb758920b"
      },
      "execution_count": 149,
      "outputs": [
        {
          "output_type": "stream",
          "name": "stdout",
          "text": [
            "Cloning into 'main'...\n",
            "fatal: repository 'https://github.com/BaTNikolas/Image_recogntion_project/tree/main/' not found\n"
          ]
        }
      ]
    },
    {
      "cell_type": "markdown",
      "source": [
        "# **Load DATASET**\n",
        "\n",
        "---- Dataset is a zip file loaded in a drive folder --------\n",
        "Alternatively you can download it from the link\n",
        "https://www.kaggle.com/datasets/drgfreeman/rockpaperscissors"
      ],
      "metadata": {
        "id": "rcWJcX3B34CD"
      }
    },
    {
      "cell_type": "code",
      "source": [
        "import zipfile\n",
        "!unzip /content/drive/MyDrive/rock_paper_final_project.zip"
      ],
      "metadata": {
        "colab": {
          "base_uri": "https://localhost:8080/"
        },
        "id": "9rBmaQf935Ex",
        "outputId": "acf38bed-f7d7-464e-a4cf-4d68166c8460"
      },
      "execution_count": 1,
      "outputs": [
        {
          "output_type": "stream",
          "name": "stdout",
          "text": [
            "Archive:  /content/drive/MyDrive/rock_paper_final_project.zip\n",
            "replace README_rpc-cv-images.txt? [y]es, [n]o, [A]ll, [N]one, [r]ename: None\n"
          ]
        }
      ]
    },
    {
      "cell_type": "markdown",
      "source": [
        "# **Preliminary imports**"
      ],
      "metadata": {
        "id": "6zk3dDAxbHC8"
      }
    },
    {
      "cell_type": "code",
      "source": [
        "! pip install xgboost"
      ],
      "metadata": {
        "id": "E2PHX-sHuRld"
      },
      "execution_count": null,
      "outputs": []
    },
    {
      "cell_type": "code",
      "execution_count": 2,
      "metadata": {
        "id": "jcmTAT_Ca8KS"
      },
      "outputs": [],
      "source": [
        "import pandas as pd\n",
        "import numpy as np\n",
        "#Image preprocessing\n",
        "from glob import glob\n",
        "import cv2\n",
        "from google.colab.patches import cv2_imshow\n",
        "\n",
        "#Visulaization\n",
        "import seaborn as sns\n",
        "import matplotlib.pyplot as plt\n",
        "# Split the dataset\n",
        "from sklearn.model_selection import train_test_split,cross_val_score\n",
        "# Simple Models\n",
        "from sklearn.linear_model import LogisticRegression\n",
        "from sklearn.tree import DecisionTreeClassifier\n",
        "from sklearn.neighbors import KNeighborsClassifier\n",
        "from sklearn.svm import SVC\n",
        "#Neural Networks\n",
        "from sklearn.neural_network import MLPClassifier\n",
        "#Ensemble models\n",
        "from sklearn.ensemble import RandomForestClassifier, AdaBoostClassifier, GradientBoostingClassifier, BaggingClassifier, StackingClassifier , VotingClassifier\n",
        "#Xgboost\n",
        "from xgboost import XGBClassifier\n",
        "# Metrics\n",
        "from sklearn.metrics import classification_report,confusion_matrix, accuracy_score , precision_score, recall_score, f1_score\n",
        "from sklearn.ensemble import StackingClassifier\n",
        "import os,random\n",
        "from tensorflow.keras.preprocessing.image import load_img, img_to_array\n",
        "import warnings\n"
      ]
    },
    {
      "cell_type": "markdown",
      "source": [
        "# **Loading dataset attributes**"
      ],
      "metadata": {
        "id": "koeL2pyRozsk"
      }
    },
    {
      "cell_type": "code",
      "source": [
        "# import sys\n",
        "lista_labels = [\"rock\",\"paper\",\"scissors\"]\n",
        "total_images = []\n",
        "total_images_for_model = []\n",
        "count = 0\n",
        "for la in lista_labels:\n",
        "  folder = f\"./{la}\"\n",
        "  for ima in os.listdir(folder):\n",
        "    my_image= load_img(os.path.join(folder,ima),target_size=(30,30),color_mode=\"rgb\")\n",
        "    f_i = img_to_array(my_image) # Aυτό τώρα είναι array!\n",
        "    f_i = f_i/255.0 #Normalization\n",
        "    f_i = cv2.cvtColor(f_i,cv2.COLOR_RGB2GRAY)\n",
        "    total_images.append((f_i,count))\n",
        "  count +=1\n",
        "random.shuffle(total_images)\n",
        "random.shuffle(total_images_for_model)\n",
        "X,y = zip(*total_images)\n"
      ],
      "metadata": {
        "id": "b5h0z5kMbxlW",
        "colab": {
          "base_uri": "https://localhost:8080/"
        },
        "outputId": "f1de2aec-96f8-4039-acc8-0ba863a2f954"
      },
      "execution_count": 3,
      "outputs": [
        {
          "output_type": "stream",
          "name": "stdout",
          "text": [
            "(2188, 30, 30) (30, 30)\n",
            "(2188,)\n"
          ]
        }
      ]
    },
    {
      "cell_type": "markdown",
      "source": [
        "# **Data visualization**\n",
        "**Plotting 10 random images**"
      ],
      "metadata": {
        "id": "ioF2yPrpRTuw"
      }
    },
    {
      "cell_type": "code",
      "source": [
        "from random import randint\n",
        "fig,ax =plt.subplots(1,10,figsize=(20,15))\n",
        "\n",
        "for num in range(10):\n",
        "  rand_num = randint(0,2187)\n",
        "  ax[num].imshow(X[rand_num])\n",
        "  ax[num].axis(\"off\")\n",
        "plt.show()\n",
        "\n"
      ],
      "metadata": {
        "id": "JR_AraRUzDXC",
        "colab": {
          "base_uri": "https://localhost:8080/",
          "height": 161
        },
        "outputId": "26813f0d-bd64-4121-aa54-5e38ec487ede"
      },
      "execution_count": 5,
      "outputs": [
        {
          "output_type": "display_data",
          "data": {
            "text/plain": [
              "<Figure size 2000x1500 with 10 Axes>"
            ],
            "image/png": "[encoded data removed]"
          },
          "metadata": {}
        }
      ]
    },
    {
      "cell_type": "code",
      "source": [
        "sns.countplot(x = y)"
      ],
      "metadata": {
        "colab": {
          "base_uri": "https://localhost:8080/",
          "height": 447
        },
        "id": "q5kKIIHrJTDA",
        "outputId": "bee9744a-a42d-4a02-ebf8-212087e1b5d8"
      },
      "execution_count": 6,
      "outputs": [
        {
          "output_type": "execute_result",
          "data": {
            "text/plain": [
              "<Axes: ylabel='count'>"
            ]
          },
          "metadata": {},
          "execution_count": 6
        },
        {
          "output_type": "display_data",
          "data": {
            "text/plain": [
              "<Figure size 640x480 with 1 Axes>"
            ],
            "image/png": "[encoded data removed]"
          },
          "metadata": {}
        }
      ]
    },
    {
      "cell_type": "markdown",
      "source": [
        "# **Dataset comment**\n",
        "\n",
        "It is seen that all categories (0,1,2) with corresponding values (\"rock\",\"paper\",\"scissors\") are equally distributed among the dataset."
      ],
      "metadata": {
        "id": "8lgxbFwzKEiV"
      }
    },
    {
      "cell_type": "code",
      "source": [
        "xtrain_cv , xtest_val_cv, ytrain_cv, ytest_val_cv = train_test_split(X,y,random_state=0,test_size=0.3, stratify=y)\n",
        "xval_cv , xtest_cv, yval_cv, ytest_cv = train_test_split(xtest_val_cv,ytest_val_cv,random_state=0,test_size=0.3,stratify = ytest_val_cv) # 20% of the total dataset and 10 % of total so in 30 % its the same split\n",
        "\n",
        "\n",
        "x_val_train_cv = np.concatenate((xtrain_cv,xval_cv)) #Unify the validation and the training set\n",
        "x_val_train_cv_flatten= np.array([ el.flatten() for  el in x_val_train_cv])\n",
        "x_train_flatten =  np.array([ el.flatten() for  el in xtrain_cv])\n",
        "x_val_flatten =  np.array([ el.flatten() for  el in xval_cv])\n",
        "x_Test_flatten =  np.array([ el.flatten() for  el in xtest_cv])\n",
        "y_val_train_cv = np.concatenate((ytrain_cv,yval_cv)) # Unify the validation and the training set"
      ],
      "metadata": {
        "id": "vA27GTPxpMUQ"
      },
      "execution_count": 7,
      "outputs": []
    },
    {
      "cell_type": "markdown",
      "source": [
        "# **Model Configuration**\n",
        "\n",
        "Methodology constituted of the following steps:\n",
        "\n",
        "1.   Find the optimal parameters  for every model by exploiting 5- Fold Cross validation or splitting the dataset in train (70%), validation (20%) and test (10%) set\n",
        "2.   After the identification of the 3 best model an utilization of a stacking classifier consinst the final model for our project\n",
        "\n",
        "\n"
      ],
      "metadata": {
        "id": "OJFzm_fsr5PW"
      }
    },
    {
      "cell_type": "markdown",
      "source": [
        "# **Model evalualtion**\n",
        "Regarding the development of rock-paper-scissors game as metric for all model is considered:\n",
        "\n",
        "\n",
        "1.   F1-macro score is choosen because all classes are considered equally important for the selection of our model\n",
        "\n"
      ],
      "metadata": {
        "id": "aJe8KpArG2wT"
      }
    },
    {
      "cell_type": "markdown",
      "source": [
        "# **Decision tree classifier**"
      ],
      "metadata": {
        "id": "KrCm7snvsCiH"
      }
    },
    {
      "cell_type": "code",
      "source": [
        "max_depth,minimum_samples_leaf,criterion = [None,3,5],[2,5,10,20],['gini','entropy','log_loss']\n",
        "chars_tree,f_1_score_tree_list =[],[]\n",
        "for md in max_depth:\n",
        "  for cr in criterion:\n",
        "    for mleaf in minimum_samples_leaf:\n",
        "      a_tree = DecisionTreeClassifier(criterion=cr, min_samples_leaf=mleaf,max_depth=md)\n",
        "      f1_score_tree= abs(np.mean(cross_val_score(a_tree,X=x_val_train_cv_flatten,y=y_val_train_cv,scoring=\"f1_macro\")))\n",
        "      chars_tree.append(f\"criterion_{cr}_max_D_{md}_min_leafs_{mleaf}\")\n",
        "      f_1_score_tree_list.append(f1_score_tree)\n",
        "\n",
        "tree_dict ={\n",
        "    \"Characteristics\":chars_tree,\n",
        "    \"f1 scores\":f_1_score_tree_list\n",
        "}\n",
        "tree_df = pd.DataFrame(data = tree_dict)\n",
        "final_tree_df=tree_df.sort_values(by=\"f1 scores\",ascending=False)\n",
        "print(final_tree_df.head())"
      ],
      "metadata": {
        "id": "Wd2c_ma7r4Fw",
        "colab": {
          "base_uri": "https://localhost:8080/"
        },
        "outputId": "32ff50af-80bd-4f34-c1e1-d2304a1cb73f"
      },
      "execution_count": 8,
      "outputs": [
        {
          "output_type": "stream",
          "name": "stdout",
          "text": [
            "                             Characteristics  f1 scores\n",
            "5   criterion_entropy_max_D_None_min_leafs_5   0.800524\n",
            "8  criterion_log_loss_max_D_None_min_leafs_2   0.800477\n",
            "9  criterion_log_loss_max_D_None_min_leafs_5   0.799548\n",
            "4   criterion_entropy_max_D_None_min_leafs_2   0.796129\n",
            "6  criterion_entropy_max_D_None_min_leafs_10   0.786504\n"
          ]
        }
      ]
    },
    {
      "cell_type": "code",
      "source": [
        "p_ex,n_neighbors,weights=['manhattan','euclidean','minkowski'],[5,15,round(np.sqrt(len(X))),100],[\"uniform\",\"distance\"]\n",
        "chars_KNN,f_1_score_KNN_list =[],[]\n",
        "for p in p_ex:\n",
        "  for nei in n_neighbors:\n",
        "    for w in weights:\n",
        "      a_knn = KNeighborsClassifier(n_neighbors=nei,weights=w,metric=p)\n",
        "      f1_score_KNN= abs(np.mean(cross_val_score(a_knn,X=x_val_train_cv_flatten,y=y_val_train_cv,scoring=\"f1_macro\")))\n",
        "      chars_KNN.append(f\"distance_{p}_weight_{w}_weigh_{nei}\")\n",
        "      f_1_score_KNN_list.append(f1_score_KNN)\n",
        "\n",
        "knn_dict ={\n",
        "    \"Characteristics\":chars_KNN,\n",
        "    \"f1 scores\":f_1_score_KNN_list\n",
        "}\n",
        "knn_df = pd.DataFrame(data = knn_dict)\n",
        "final_knn_df=knn_df.sort_values(by=\"f1 scores\",ascending=False)\n",
        "print(final_knn_df.head())"
      ],
      "metadata": {
        "id": "YkgrC0ZLtOeY",
        "colab": {
          "base_uri": "https://localhost:8080/"
        },
        "outputId": "95d13306-9f03-4f19-db70-6904760c671e"
      },
      "execution_count": 9,
      "outputs": [
        {
          "output_type": "stream",
          "name": "stdout",
          "text": [
            "                                Characteristics  f1 scores\n",
            "1    distance_manhattan_weight_distance_weigh_5   0.907311\n",
            "17   distance_minkowski_weight_distance_weigh_5   0.896159\n",
            "9    distance_euclidean_weight_distance_weigh_5   0.896159\n",
            "0     distance_manhattan_weight_uniform_weigh_5   0.890515\n",
            "3   distance_manhattan_weight_distance_weigh_15   0.884007\n"
          ]
        }
      ]
    },
    {
      "cell_type": "markdown",
      "source": [
        "# **SVM CLASSIFIER**\n",
        "\n"
      ],
      "metadata": {
        "id": "DBrrTrgnuPGY"
      }
    },
    {
      "cell_type": "code",
      "source": [
        "C_param, gam_param = [10,100,1000],['scale','auto']\n",
        "chars_SVC,f_1_score_SVC_list =[],[]\n",
        "kernel = [\"linear\", \"poly\", \"rbf\", \"sigmoid\"]\n",
        "for k in kernel:\n",
        "  for c_ in C_param:\n",
        "    for gam in gam_param:\n",
        "      a_SVC = SVC(gamma=gam,kernel=k,C=c_,probability=True,random_state=0)\n",
        "      a_SVC.fit(x_train_flatten,ytrain_cv)\n",
        "      preds = a_SVC.predict(x_val_flatten)\n",
        "      f1_score_SVC = f1_score(yval_cv,preds,average=\"macro\")\n",
        "      chars_SVC.append(f\"kernel_{k}_C_{c_}_g_{gam}\")\n",
        "      f_1_score_SVC_list.append(f1_score_SVC)\n",
        "\n",
        "\n",
        "svc_dict_Dict ={\n",
        "    \"Characteristics\":chars_SVC,\n",
        "    \"f1 scores\":f_1_score_SVC_list\n",
        "}\n",
        "SVC_df = pd.DataFrame(data = svc_dict_Dict)\n",
        "final_SVC_df=SVC_df.sort_values(by=\"f1 scores\",ascending=False)\n",
        "print(final_SVC_df.head())"
      ],
      "metadata": {
        "id": "hZTHMO6vuOOY",
        "colab": {
          "base_uri": "https://localhost:8080/"
        },
        "outputId": "53d8c45c-26ec-465a-d281-c9ca10300b7a"
      },
      "execution_count": 10,
      "outputs": [
        {
          "output_type": "stream",
          "name": "stdout",
          "text": [
            "               Characteristics  f1 scores\n",
            "12     kernel_rbf_C_10_g_scale   0.956343\n",
            "16   kernel_rbf_C_1000_g_scale   0.956343\n",
            "14    kernel_rbf_C_100_g_scale   0.956343\n",
            "10  kernel_poly_C_1000_g_scale   0.836000\n",
            "6     kernel_poly_C_10_g_scale   0.836000\n"
          ]
        }
      ]
    },
    {
      "cell_type": "markdown",
      "source": [
        "# **Multi layer pereceptron**\n",
        "\n",
        "random state = 0\n",
        "activation = 'relu'\n",
        "hidden lay size\n",
        "solver = 'lbfgs','sgd', 'adam'\n",
        "aplha = 0.00001, 0.0001, 0.001\n",
        "learning_rate = 'constant','adaptive' #είτε σταθερά κατά 0.001 αλλιώς στο adaptive μειώνεται κατά 5\n",
        "early_stopping = True #When validation score is not improvig"
      ],
      "metadata": {
        "id": "RLxtEnSBx8f8"
      }
    },
    {
      "cell_type": "code",
      "source": [
        "warnings.filterwarnings(\"ignore\")\n",
        "hidden_layer_list,learning_rate_init_list,slover_list = [(64,),(64,64),(64,64,64,64),(256,),(256,256),(256,256,256,256)],[0.000000001,0.000001,0.001,1],[\"adam\",\"sgd\"]\n",
        "f_1_score_mlp_list,chars_mlp  =[],[]\n",
        "for hidden_lay in hidden_layer_list:\n",
        "    for lear_list in learning_rate_init_list:\n",
        "      for slo in slover_list:\n",
        "        a_mlp = MLPClassifier(random_state=0,hidden_layer_sizes=hidden_lay,learning_rate ='constant',solver=slo,activation='relu',max_iter=400)\n",
        "        a_mlp.fit(x_train_flatten,ytrain_cv)\n",
        "        preds = a_mlp.predict(x_val_flatten)\n",
        "        f1_score_mlp = f1_score(yval_cv,preds,average=\"macro\")\n",
        "        chars_mlp.append(f\"layer size_{hidden_lay}_learning_rate_{lear_list}_solv{slo}\")\n",
        "        f_1_score_mlp_list.append(f1_score_mlp)\n",
        "\n",
        "mlp_dict ={\n",
        "    \"Characteristics\":chars_mlp,\n",
        "    \"f1 scores\":f_1_score_mlp_list\n",
        "}\n",
        "mlp_df = pd.DataFrame(data = mlp_dict)\n",
        "final_mlp_df=mlp_df.sort_values(by=\"f1 scores\",ascending=False)\n",
        "print(final_mlp_df.head())"
      ],
      "metadata": {
        "id": "Ia1q3R55TEw1",
        "colab": {
          "base_uri": "https://localhost:8080/"
        },
        "outputId": "ec13fcb5-77f8-4282-a5a0-313c4da20fdd"
      },
      "execution_count": 11,
      "outputs": [
        {
          "output_type": "stream",
          "name": "stdout",
          "text": [
            "                                   Characteristics  f1 scores\n",
            "24  layer size_(256,)_learning_rate_1e-09_solvadam   0.945560\n",
            "26  layer size_(256,)_learning_rate_1e-06_solvadam   0.945560\n",
            "30      layer size_(256,)_learning_rate_1_solvadam   0.945560\n",
            "28  layer size_(256,)_learning_rate_0.001_solvadam   0.945560\n",
            "38  layer size_(256, 256)_learning_rate_1_solvadam   0.937139\n"
          ]
        }
      ]
    },
    {
      "cell_type": "code",
      "source": [
        "n_estimator,learning_rate = [50,100,200,250],[0.0001,0.001,0.01]\n",
        "f_1_score_ada_list,chars_ada  =[],[]\n",
        "for n in n_estimator:\n",
        "    for lr in learning_rate:\n",
        "      a_ada = AdaBoostClassifier(learning_rate=lr,n_estimators=n)\n",
        "      a_ada.fit(x_train_flatten,ytrain_cv)\n",
        "      preds = a_ada.predict(x_val_flatten)\n",
        "      # f1_score_ada = abs(np.mean(cross_val_score(a_ada,X=x_val_train_cv_flatten,y=y_val_train_cv,scoring=\"f1_macro\")))\n",
        "      f1_score_ada = f1_score(yval_cv,preds,average=\"macro\")\n",
        "      chars_ada.append(f\"estimator_{n}_learning_rate_{lr}_and {b}\")\n",
        "      f_1_score_ada_list.append(f1_score_ada)\n",
        "      # print(f\" the f_1 for {f1_score_ada},estimator_{n}_learning_rate_{lr}_and {b}\")\n",
        "\n",
        "\n",
        "ada_dict ={\n",
        "    \"Characteristics\":chars_ada,\n",
        "    \"f1 scores\":f_1_score_ada_list\n",
        "}\n",
        "ADA_df = pd.DataFrame(data = ada_dict)\n",
        "final_ada_df= ADA_df.sort_values(by=\"f1 scores\",ascending=False)\n",
        "print(final_ada_df.head())"
      ],
      "metadata": {
        "colab": {
          "base_uri": "https://localhost:8080/"
        },
        "id": "7HjE5qTeCfOk",
        "outputId": "d247eb47-6b4e-476e-bf0b-17f9e3491c43"
      },
      "execution_count": 14,
      "outputs": [
        {
          "output_type": "stream",
          "name": "stdout",
          "text": [
            "                                      Characteristics  f1 scores\n",
            "8   estimator_200_learning_rate_0.01_and SVC(C=10,...   0.659010\n",
            "11  estimator_250_learning_rate_0.01_and SVC(C=10,...   0.652632\n",
            "5   estimator_100_learning_rate_0.01_and SVC(C=10,...   0.607829\n",
            "2   estimator_50_learning_rate_0.01_and SVC(C=10, ...   0.501204\n",
            "7   estimator_200_learning_rate_0.001_and SVC(C=10...   0.460249\n"
          ]
        }
      ]
    },
    {
      "cell_type": "code",
      "source": [
        "a_XG = XGBClassifier()\n",
        "a_XG.fit(x_train_flatten,ytrain_cv)\n",
        "preds = a_XG.predict(x_val_flatten)\n",
        "f1_score_XG = f1_score(yval_cv,preds,average=\"macro\")\n",
        "print(f\" the f_1 for {f1_score_XG} \")#, with g {gam} and kernel {k} and c parameter {c_}\")"
      ],
      "metadata": {
        "id": "5cWUAIyyTSge",
        "colab": {
          "base_uri": "https://localhost:8080/"
        },
        "outputId": "036410bf-c3a3-4bfd-98fb-21bbefce7fd4"
      },
      "execution_count": 16,
      "outputs": [
        {
          "output_type": "stream",
          "name": "stdout",
          "text": [
            " the f_1 for 0.9585520138363742 \n"
          ]
        }
      ]
    },
    {
      "cell_type": "code",
      "source": [
        "n_estimator,criteria,minimum_samples_splited = [50,100,200],['gini','entropy','log_loss'],[2,5,10,15]\n",
        "accurancy_dict= {}\n",
        "f_1_score__random_for_list,chars_random_forest =[],[]\n",
        "for n in n_estimator:\n",
        "  for cr in criteria:\n",
        "    for min_s in minimum_samples_splited:\n",
        "        a_forest = RandomForestClassifier(n_estimators=n,criterion=cr,min_samples_split=min_s)\n",
        "        f1_score_random_forest= abs(np.mean(cross_val_score(a_forest,X=x_val_train_cv_flatten,y=y_val_train_cv,scoring=\"f1_macro\")))\n",
        "\n",
        "        chars_random_forest.append(f\"esti_{n}_criter_{cr}_min_s{min_s}\")\n",
        "        f_1_score__random_for_list.append(f1_score_random_forest)\n",
        "\n",
        "forest_Dict ={\n",
        "    \"Characteristics\":chars_random_forest,\n",
        "    \"f1 scores\":f_1_score__random_for_list\n",
        "}\n",
        "forest_df = pd.DataFrame(data = forest_Dict)\n",
        "final_forest_df=forest_df.sort_values(by=\"f1 scores\",ascending=False)\n",
        "print(final_forest_df.head())"
      ],
      "metadata": {
        "id": "HK_ghb-urytE",
        "colab": {
          "base_uri": "https://localhost:8080/"
        },
        "outputId": "d687df5e-15ce-409b-aa42-ab2247cf52f4"
      },
      "execution_count": 17,
      "outputs": [
        {
          "output_type": "stream",
          "name": "stdout",
          "text": [
            "                    Characteristics  f1 scores\n",
            "33  esti_200_criter_log_loss_min_s5   0.938086\n",
            "32  esti_200_criter_log_loss_min_s2   0.936508\n",
            "24      esti_200_criter_gini_min_s2   0.936063\n",
            "25      esti_200_criter_gini_min_s5   0.935985\n",
            "16   esti_100_criter_entropy_min_s2   0.935500\n"
          ]
        }
      ]
    },
    {
      "cell_type": "markdown",
      "source": [
        "# **Stacking classifer**\n",
        "\n",
        "#based on the best  5 models which consisted of XGBOOST, RANDOM-FOREST, KNN, MLP AND SVC"
      ],
      "metadata": {
        "id": "BctbCmpP0rbP"
      }
    },
    {
      "cell_type": "code",
      "source": [
        "model_1 = XGBClassifier()\n",
        "model_2 = RandomForestClassifier(n_estimators=200,criterion=\"log_loss\",min_samples_split=5)\n",
        "model_3 = KNeighborsClassifier(n_neighbors=5,weights='distance',metric='manhattan')\n",
        "model_4 = MLPClassifier(random_state=0,hidden_layer_sizes=(256,),learning_rate ='constant',solver='adam',activation='relu',max_iter=400)\n",
        "model_5 = SVC(gamma='scale',kernel='rbf',C=10)\n",
        "esti = [('XG',model_1),(\"Ran_Forest\",model_2),(\"KNN\",model_3),(\"MLP\",model_4)]\n",
        "FINAL_MODEL = StackingClassifier(estimators=esti,final_estimator = model_5,n_jobs=-1)\n",
        "FINAL_MODEL.fit(x_val_train_cv_flatten,y_val_train_cv) #Πάρe μαζί train/validation/test\n",
        "preds_stack = FINAL_MODEL.predict(x_Test_flatten)\n",
        "print(f1_score(ytest_cv,preds_stack,average=\"macro\"))\n",
        "print(classification_report(ytest_cv,preds_stack))\n",
        "sns.heatmap(confusion_matrix(ytest_cv,preds_stack),xticklabels=[\"rock\",\"paper\",\"scissors\"],yticklabels=[\"rock\",\"paper\",\"scissors\"],annot=True)"
      ],
      "metadata": {
        "id": "wVRmj0jwrydz",
        "colab": {
          "base_uri": "https://localhost:8080/",
          "height": 638
        },
        "outputId": "a612d88e-9a0a-477f-ec4d-019b96e5a3fe"
      },
      "execution_count": 20,
      "outputs": [
        {
          "output_type": "stream",
          "name": "stdout",
          "text": [
            "0.969655143568187\n",
            "              precision    recall  f1-score   support\n",
            "\n",
            "           0       0.97      0.97      0.97        66\n",
            "           1       0.98      0.95      0.97        64\n",
            "           2       0.96      0.99      0.97        68\n",
            "\n",
            "    accuracy                           0.97       198\n",
            "   macro avg       0.97      0.97      0.97       198\n",
            "weighted avg       0.97      0.97      0.97       198\n",
            "\n"
          ]
        },
        {
          "output_type": "execute_result",
          "data": {
            "text/plain": [
              "<Axes: >"
            ]
          },
          "metadata": {},
          "execution_count": 20
        },
        {
          "output_type": "display_data",
          "data": {
            "text/plain": [
              "<Figure size 640x480 with 2 Axes>"
            ],
            "image/png": "[encoded data removed]"
          },
          "metadata": {}
        }
      ]
    },
    {
      "cell_type": "markdown",
      "source": [
        "# **Assumption about the model**\n",
        "It is assumed that the final model achieves the best results among the other models and is choosed for the rock-paper-sciccor-game"
      ],
      "metadata": {
        "id": "DNkCrQJpUk-x"
      }
    },
    {
      "cell_type": "markdown",
      "source": [
        "# **Preprocess image**\n",
        "Oppennet may flip image, vertically and horrizontaly, apply some noise in order to make it difficult for our agent to identify the image.\n",
        "\n"
      ],
      "metadata": {
        "id": "YiPA0Zbv0F37"
      }
    },
    {
      "cell_type": "code",
      "source": [
        "def opponent_manipulation(rand_array_img):\n",
        "  def flip(image,flip_inp):\n",
        "    new_image = np.array([0])\n",
        "    if flip_inp[0] ==\"vertical\":\n",
        "      new_image = cv2.flip(image,0)\n",
        "    elif flip_inp[0] ==\"horizontal\":\n",
        "      new_image= cv2.flip(image,1)\n",
        "    elif flip_inp[0] ==\"Nothing\":\n",
        "      new_image=image\n",
        "\n",
        "    return new_image\n",
        "\n",
        "  opponent_list = [\"vertical\",\"horizontal\",\"Nothing\"]\n",
        "  opponent_flip = random.choices(opponent_list,weights=[0.5,0.5,0.5])\n",
        "  flip_image = flip(image=rand_array_img,flip_inp=opponent_flip)\n",
        "  noise_sigma,noise_mean = 0.05,0\n",
        "\n",
        "\n",
        "  noise = np.zeros(flip_image.shape,np.float32)\n",
        "  cv2.randn(noise,noise_mean,noise_sigma)\n",
        "  # #add noise\n",
        "  noisy_image = cv2.add(flip_image,noise)\n",
        "\n",
        "  return noisy_image"
      ],
      "metadata": {
        "id": "B-cxInnwzAsO"
      },
      "execution_count": 57,
      "outputs": []
    },
    {
      "cell_type": "markdown",
      "source": [
        "# **Opponent move**\n",
        "(0,1,2) with corresponding values (\"rock\",\"paper\",\"scissors\")"
      ],
      "metadata": {
        "id": "9sYWjVYsLRue"
      }
    },
    {
      "cell_type": "code",
      "source": [
        "def opponent_main():\n",
        "  '''\n",
        "  Function that refers to the opponent moves of rock-paper-scissors game\n",
        "  '''\n",
        "  pick_up_random_index = random.randint(0,2187)\n",
        "  correct_answer = y[pick_up_random_index]\n",
        "  selected_image = X[pick_up_random_index]\n",
        "  manipulate_image =  opponent_manipulation(rand_array_img=selected_image)\n",
        "  return correct_answer,manipulate_image\n",
        "def player_choice(model_pred):\n",
        "  if model_pred ==0:\n",
        "    return 1\n",
        "  elif model_pred == 1:\n",
        "    return 2\n",
        "  else:\n",
        "    return 0\n"
      ],
      "metadata": {
        "id": "DYOWXUXyLRBW"
      },
      "execution_count": 78,
      "outputs": []
    },
    {
      "cell_type": "markdown",
      "source": [
        "# **Main part of the game**"
      ],
      "metadata": {
        "id": "Dille5FCHH-H"
      }
    },
    {
      "cell_type": "code",
      "source": [
        "round_list,income_list = [],[]\n",
        "avalable_total_money = 10\n",
        "round_count= 1\n",
        "moves_dictionary = {\"0\":\"rock\",\"1\":\"paper\",\"2\":\"scissors\"}\n",
        "while(round_count!=100 and avalable_total_money!=0):\n",
        "  correct_answer,image_to_identify = opponent_main()\n",
        "  expand_shape_for_model =  image_to_identify[np.newaxis,:,:]\n",
        "  image_flat = np.array([el.flatten() for el in expand_shape_for_model])\n",
        "  best_model_pred = FINAL_MODEL.predict(image_flat)[0]\n",
        "  model_move = player_choice (model_pred = best_model_pred)\n",
        "  if best_model_pred != correct_answer:\n",
        "    avalable_total_money -= 1\n",
        "  else:\n",
        "    avalable_total_money +=1\n",
        "  round_list.append(round_count)\n",
        "  income_list.append(avalable_total_money)\n",
        "  round_count += 1"
      ],
      "metadata": {
        "id": "pdXm5MuyHMe4"
      },
      "execution_count": 92,
      "outputs": []
    },
    {
      "cell_type": "markdown",
      "source": [
        "# **Visualization of the results**\n",
        "\n",
        "\n"
      ],
      "metadata": {
        "id": "5xl86Z9Gjlwd"
      }
    },
    {
      "cell_type": "code",
      "source": [
        "results_dict = {\"number of rounds\":round_list,\"income\":income_list}\n",
        "results_df = pd.DataFrame(data=results_dict)\n",
        "sns.lineplot(data=results_df,x='number of rounds',y='income',marker='o')\n",
        "plt.title(\"Profit from accurate predicting of rock-paper-scissors game\")"
      ],
      "metadata": {
        "colab": {
          "base_uri": "https://localhost:8080/",
          "height": 489
        },
        "id": "RPG837WsjjVr",
        "outputId": "fa0a6c3b-346f-45a1-e00f-42d16c4a9b28"
      },
      "execution_count": 100,
      "outputs": [
        {
          "output_type": "execute_result",
          "data": {
            "text/plain": [
              "Text(0.5, 1.0, 'Profit from accurate predicting of rock-paper-scissors game')"
            ]
          },
          "metadata": {},
          "execution_count": 100
        },
        {
          "output_type": "display_data",
          "data": {
            "text/plain": [
              "<Figure size 640x480 with 1 Axes>"
            ],
            "image/png": "[encoded data removed]"
          },
          "metadata": {}
        }
      ]
    },
    {
      "cell_type": "markdown",
      "source": [
        "# **Testing model with a simillar image found in the google**\n",
        "Image is a scissor shape hand and the expected return value is 2 from our final model"
      ],
      "metadata": {
        "id": "Ac0DhWm6iD15"
      }
    },
    {
      "cell_type": "code",
      "source": [
        "my_image_test= load_img('./hand.png',target_size=(30,30),color_mode=\"rgb\")\n",
        "test_f_i = img_to_array(my_image_test)\n",
        "test_f_i = test_f_i/255.0 #Normalization\n",
        "test_f_i = cv2.cvtColor(test_f_i,cv2.COLOR_RGB2GRAY)\n",
        "fig_cha, axsi =plt.subplots(1,1,figsize=(10,5))\n",
        "axsi.imshow(test_f_i)\n",
        "axsi.axis(\"off\")\n",
        "axsi.set_title(\"Hand\")\n",
        "plt.show()\n"
      ],
      "metadata": {
        "colab": {
          "base_uri": "https://localhost:8080/",
          "height": 444
        },
        "id": "XC69DtksdoKt",
        "outputId": "5ef59c85-29f5-4849-a00b-69aa39322056"
      },
      "execution_count": 147,
      "outputs": [
        {
          "output_type": "display_data",
          "data": {
            "text/plain": [
              "<Figure size 1000x500 with 1 Axes>"
            ],
            "image/png": "[encoded data removed]"
          },
          "metadata": {}
        }
      ]
    },
    {
      "cell_type": "code",
      "source": [
        "expand_shape_for_model_random =  test_f_i[np.newaxis,:,:] # To regulate according the model mandatory inputs\n",
        "image_flat_random = np.array([el.flatten() for el in expand_shape_for_model_random])\n",
        "best_model_pred_random = FINAL_MODEL.predict(image_flat_random )[0]\n",
        "print(best_model_pred_random)"
      ],
      "metadata": {
        "colab": {
          "base_uri": "https://localhost:8080/"
        },
        "id": "T-HbsRO3mMTj",
        "outputId": "0223acfe-9ace-4004-e7e0-c285a5ca1afe"
      },
      "execution_count": 148,
      "outputs": [
        {
          "output_type": "stream",
          "name": "stdout",
          "text": [
            "1\n"
          ]
        }
      ]
    },
    {
      "cell_type": "code",
      "source": [],
      "metadata": {
        "id": "go8JhTs5pM-M"
      },
      "execution_count": null,
      "outputs": []
    }
  ]
}